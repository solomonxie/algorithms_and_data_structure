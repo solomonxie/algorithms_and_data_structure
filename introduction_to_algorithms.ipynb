{
 "cells": [
  {
   "cell_type": "markdown",
   "metadata": {},
   "source": [
    "# Book: Introduction to Algorithms"
   ]
  },
  {
   "cell_type": "markdown",
   "metadata": {
    "ExecuteTime": {
     "end_time": "2018-11-03T08:25:50.535283Z",
     "start_time": "2018-11-03T08:25:50.532643Z"
    }
   },
   "source": [
    "## CH2: Insertion Sort"
   ]
  },
  {
   "cell_type": "code",
   "execution_count": 29,
   "metadata": {
    "ExecuteTime": {
     "end_time": "2018-11-03T08:44:55.189528Z",
     "start_time": "2018-11-03T08:44:55.179940Z"
    }
   },
   "outputs": [
    {
     "name": "stdout",
     "output_type": "stream",
     "text": [
      "pointer at: 0\n",
      "pointer at: 1\n",
      "5 2\n",
      "2 5\n",
      "pointer at: 2\n",
      "5 4\n",
      "4 5\n",
      "pointer at: 3\n",
      "pointer at: 4\n",
      "6 1\n",
      "1 6\n",
      "pointer at: 5\n",
      "6 3\n",
      "3 6\n",
      "[2, 4, 5, 1, 3, 6]\n"
     ]
    }
   ],
   "source": [
    "A = [5,2,4,6,1,3]\n",
    "\n",
    "for j in range(1, len(A)):\n",
    "    print('pointer at: {}'.format(j))\n",
    "    i=j-1\n",
    "    while A[i]>A[j]:\n",
    "        #switch\n",
    "        print(A[i], A[j])\n",
    "        A[i],A[j] = A[j],A[i]\n",
    "        print(A[i], A[j])\n",
    "        i=i-1\n",
    "\n",
    "print(A)\n"
   ]
  }
 ],
 "metadata": {
  "kernelspec": {
   "display_name": "Python 3",
   "language": "python",
   "name": "python3"
  },
  "language_info": {
   "codemirror_mode": {
    "name": "ipython",
    "version": 3
   },
   "file_extension": ".py",
   "mimetype": "text/x-python",
   "name": "python",
   "nbconvert_exporter": "python",
   "pygments_lexer": "ipython3",
   "version": "3.7.0"
  },
  "toc": {
   "base_numbering": 1,
   "nav_menu": {},
   "number_sections": true,
   "sideBar": true,
   "skip_h1_title": false,
   "title_cell": "Table of Contents",
   "title_sidebar": "Contents",
   "toc_cell": false,
   "toc_position": {},
   "toc_section_display": true,
   "toc_window_display": false
  },
  "varInspector": {
   "cols": {
    "lenName": 16,
    "lenType": 16,
    "lenVar": 40
   },
   "kernels_config": {
    "python": {
     "delete_cmd_postfix": "",
     "delete_cmd_prefix": "del ",
     "library": "var_list.py",
     "varRefreshCmd": "print(var_dic_list())"
    },
    "r": {
     "delete_cmd_postfix": ") ",
     "delete_cmd_prefix": "rm(",
     "library": "var_list.r",
     "varRefreshCmd": "cat(var_dic_list()) "
    }
   },
   "types_to_exclude": [
    "module",
    "function",
    "builtin_function_or_method",
    "instance",
    "_Feature"
   ],
   "window_display": false
  }
 },
 "nbformat": 4,
 "nbformat_minor": 2
}
